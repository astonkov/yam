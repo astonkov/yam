{
 "cells": [
  {
   "cell_type": "code",
   "execution_count": 195,
   "metadata": {},
   "outputs": [],
   "source": [
    "from IPython.display import Image\n",
    "from IPython.core.display import HTML \n",
    "import pandas as pd\n",
    "import requests\n",
    "import json\n",
    "\n",
    "def print_we(city):\n",
    "    url = 'https://api.weather.yandex.ru/v2/forecast?lat=' + str(city[0]) + '&lon=' + str(city[1]) + '&limit=7&extra=true'\n",
    "    header = {'X-Yandex-API-Key':'e27fa4eb-c739-4d42-9635-8c9785f5bb3d'}\n",
    "    resp = requests.get(url, headers=header)\n",
    "\n",
    "    dictya = json.loads(resp.text)\n",
    "    print(\"_______________\")\n",
    "    print(dictya['now_dt'])\n",
    "    print(dictya['geo_object']['locality']['name'])\n",
    "\n",
    "    def path_to_image_html(path):\n",
    "        return '<img src=\"'+ path + '\" width=\"60\" >'\n",
    "\n",
    "    saturday = \"2022-05-28\"\n",
    "    sunday =  \"2022-05-29\"\n",
    "    for f in dictya['forecasts']:\n",
    "        if ((f['date'] == saturday) or (f['date'] == sunday)):\n",
    "            print(f['date'])\n",
    "            img1 = \"https://yastatic.net/weather/i/icons/funky/dark/\"+ f['parts']['night_short']['icon'] +\".svg\"\n",
    "            img2 = \"https://yastatic.net/weather/i/icons/funky/dark/\"+ f['parts']['morning']['icon'] +\".svg\"\n",
    "            img3 = \"https://yastatic.net/weather/i/icons/funky/dark/\"+ f['parts']['day_short']['icon'] +\".svg\"\n",
    "            img4 = \"https://yastatic.net/weather/i/icons/funky/dark/\"+ f['parts']['evening']['icon'] +\".svg\"\n",
    "            df = pd.DataFrame({\"Температура\" : [f['parts']['night_short']['temp'],f['parts']['morning']['temp_min'], f['parts']['day_short']['temp'], f['parts']['evening']['temp_min']],\n",
    "                                \"Влажность\" : [f['parts']['night_short']['humidity'],f['parts']['morning']['humidity'], f['parts']['day_short']['humidity'], f['parts']['evening']['humidity']],\n",
    "                                \"Состояние\" : [f['parts']['night_short']['condition'],f['parts']['morning']['condition'], f['parts']['day_short']['condition'], f['parts']['evening']['condition']],\n",
    "                                \"КартинОчка\" : [img1, img2, img3, img4],\n",
    "                                }, index=[\"Ночь\", \"Утро\", \"День\", \"Вечер\"])\n",
    "            display(HTML(df.to_html(escape=False,formatters=dict(КартинОчка=path_to_image_html))))\n",
    "            "
   ]
  },
  {
   "cell_type": "code",
   "execution_count": 196,
   "metadata": {},
   "outputs": [
    {
     "name": "stdout",
     "output_type": "stream",
     "text": [
      "_______________\n",
      "2022-05-25T06:34:11.351524Z\n",
      "Мышкин\n",
      "2022-05-28\n"
     ]
    },
    {
     "data": {
      "text/html": [
       "<table border=\"1\" class=\"dataframe\">\n",
       "  <thead>\n",
       "    <tr style=\"text-align: right;\">\n",
       "      <th></th>\n",
       "      <th>Температура</th>\n",
       "      <th>Влажность</th>\n",
       "      <th>Состояние</th>\n",
       "      <th>КартинОчка</th>\n",
       "    </tr>\n",
       "  </thead>\n",
       "  <tbody>\n",
       "    <tr>\n",
       "      <th>Ночь</th>\n",
       "      <td>8</td>\n",
       "      <td>89</td>\n",
       "      <td>light-rain</td>\n",
       "      <td><img src=\"https://yastatic.net/weather/i/icons/funky/dark/ovc_-ra.svg\" width=\"60\" ></td>\n",
       "    </tr>\n",
       "    <tr>\n",
       "      <th>Утро</th>\n",
       "      <td>9</td>\n",
       "      <td>85</td>\n",
       "      <td>light-rain</td>\n",
       "      <td><img src=\"https://yastatic.net/weather/i/icons/funky/dark/ovc_-ra.svg\" width=\"60\" ></td>\n",
       "    </tr>\n",
       "    <tr>\n",
       "      <th>День</th>\n",
       "      <td>13</td>\n",
       "      <td>77</td>\n",
       "      <td>showers</td>\n",
       "      <td><img src=\"https://yastatic.net/weather/i/icons/funky/dark/ovc_+ra.svg\" width=\"60\" ></td>\n",
       "    </tr>\n",
       "    <tr>\n",
       "      <th>Вечер</th>\n",
       "      <td>10</td>\n",
       "      <td>71</td>\n",
       "      <td>light-rain</td>\n",
       "      <td><img src=\"https://yastatic.net/weather/i/icons/funky/dark/ovc_-ra.svg\" width=\"60\" ></td>\n",
       "    </tr>\n",
       "  </tbody>\n",
       "</table>"
      ],
      "text/plain": [
       "<IPython.core.display.HTML object>"
      ]
     },
     "metadata": {},
     "output_type": "display_data"
    },
    {
     "name": "stdout",
     "output_type": "stream",
     "text": [
      "2022-05-29\n"
     ]
    },
    {
     "data": {
      "text/html": [
       "<table border=\"1\" class=\"dataframe\">\n",
       "  <thead>\n",
       "    <tr style=\"text-align: right;\">\n",
       "      <th></th>\n",
       "      <th>Температура</th>\n",
       "      <th>Влажность</th>\n",
       "      <th>Состояние</th>\n",
       "      <th>КартинОчка</th>\n",
       "    </tr>\n",
       "  </thead>\n",
       "  <tbody>\n",
       "    <tr>\n",
       "      <th>Ночь</th>\n",
       "      <td>7</td>\n",
       "      <td>81</td>\n",
       "      <td>cloudy</td>\n",
       "      <td><img src=\"https://yastatic.net/weather/i/icons/funky/dark/bkn_n.svg\" width=\"60\" ></td>\n",
       "    </tr>\n",
       "    <tr>\n",
       "      <th>Утро</th>\n",
       "      <td>8</td>\n",
       "      <td>78</td>\n",
       "      <td>light-rain</td>\n",
       "      <td><img src=\"https://yastatic.net/weather/i/icons/funky/dark/ovc_-ra.svg\" width=\"60\" ></td>\n",
       "    </tr>\n",
       "    <tr>\n",
       "      <th>День</th>\n",
       "      <td>14</td>\n",
       "      <td>71</td>\n",
       "      <td>showers</td>\n",
       "      <td><img src=\"https://yastatic.net/weather/i/icons/funky/dark/bkn_+ra_d.svg\" width=\"60\" ></td>\n",
       "    </tr>\n",
       "    <tr>\n",
       "      <th>Вечер</th>\n",
       "      <td>11</td>\n",
       "      <td>69</td>\n",
       "      <td>cloudy</td>\n",
       "      <td><img src=\"https://yastatic.net/weather/i/icons/funky/dark/bkn_d.svg\" width=\"60\" ></td>\n",
       "    </tr>\n",
       "  </tbody>\n",
       "</table>"
      ],
      "text/plain": [
       "<IPython.core.display.HTML object>"
      ]
     },
     "metadata": {},
     "output_type": "display_data"
    },
    {
     "name": "stdout",
     "output_type": "stream",
     "text": [
      "_______________\n",
      "2022-05-25T06:34:11.460454Z\n",
      "Коломна\n",
      "2022-05-28\n"
     ]
    },
    {
     "data": {
      "text/html": [
       "<table border=\"1\" class=\"dataframe\">\n",
       "  <thead>\n",
       "    <tr style=\"text-align: right;\">\n",
       "      <th></th>\n",
       "      <th>Температура</th>\n",
       "      <th>Влажность</th>\n",
       "      <th>Состояние</th>\n",
       "      <th>КартинОчка</th>\n",
       "    </tr>\n",
       "  </thead>\n",
       "  <tbody>\n",
       "    <tr>\n",
       "      <th>Ночь</th>\n",
       "      <td>10</td>\n",
       "      <td>74</td>\n",
       "      <td>light-rain</td>\n",
       "      <td><img src=\"https://yastatic.net/weather/i/icons/funky/dark/bkn_-ra_n.svg\" width=\"60\" ></td>\n",
       "    </tr>\n",
       "    <tr>\n",
       "      <th>Утро</th>\n",
       "      <td>10</td>\n",
       "      <td>82</td>\n",
       "      <td>rain</td>\n",
       "      <td><img src=\"https://yastatic.net/weather/i/icons/funky/dark/ovc_ra.svg\" width=\"60\" ></td>\n",
       "    </tr>\n",
       "    <tr>\n",
       "      <th>День</th>\n",
       "      <td>14</td>\n",
       "      <td>70</td>\n",
       "      <td>rain</td>\n",
       "      <td><img src=\"https://yastatic.net/weather/i/icons/funky/dark/bkn_ra_d.svg\" width=\"60\" ></td>\n",
       "    </tr>\n",
       "    <tr>\n",
       "      <th>Вечер</th>\n",
       "      <td>10</td>\n",
       "      <td>63</td>\n",
       "      <td>cloudy</td>\n",
       "      <td><img src=\"https://yastatic.net/weather/i/icons/funky/dark/bkn_n.svg\" width=\"60\" ></td>\n",
       "    </tr>\n",
       "  </tbody>\n",
       "</table>"
      ],
      "text/plain": [
       "<IPython.core.display.HTML object>"
      ]
     },
     "metadata": {},
     "output_type": "display_data"
    },
    {
     "name": "stdout",
     "output_type": "stream",
     "text": [
      "2022-05-29\n"
     ]
    },
    {
     "data": {
      "text/html": [
       "<table border=\"1\" class=\"dataframe\">\n",
       "  <thead>\n",
       "    <tr style=\"text-align: right;\">\n",
       "      <th></th>\n",
       "      <th>Температура</th>\n",
       "      <th>Влажность</th>\n",
       "      <th>Состояние</th>\n",
       "      <th>КартинОчка</th>\n",
       "    </tr>\n",
       "  </thead>\n",
       "  <tbody>\n",
       "    <tr>\n",
       "      <th>Ночь</th>\n",
       "      <td>8</td>\n",
       "      <td>75</td>\n",
       "      <td>cloudy</td>\n",
       "      <td><img src=\"https://yastatic.net/weather/i/icons/funky/dark/bkn_n.svg\" width=\"60\" ></td>\n",
       "    </tr>\n",
       "    <tr>\n",
       "      <th>Утро</th>\n",
       "      <td>9</td>\n",
       "      <td>69</td>\n",
       "      <td>cloudy</td>\n",
       "      <td><img src=\"https://yastatic.net/weather/i/icons/funky/dark/bkn_d.svg\" width=\"60\" ></td>\n",
       "    </tr>\n",
       "    <tr>\n",
       "      <th>День</th>\n",
       "      <td>16</td>\n",
       "      <td>59</td>\n",
       "      <td>light-rain</td>\n",
       "      <td><img src=\"https://yastatic.net/weather/i/icons/funky/dark/bkn_-ra_d.svg\" width=\"60\" ></td>\n",
       "    </tr>\n",
       "    <tr>\n",
       "      <th>Вечер</th>\n",
       "      <td>12</td>\n",
       "      <td>57</td>\n",
       "      <td>cloudy</td>\n",
       "      <td><img src=\"https://yastatic.net/weather/i/icons/funky/dark/bkn_n.svg\" width=\"60\" ></td>\n",
       "    </tr>\n",
       "  </tbody>\n",
       "</table>"
      ],
      "text/plain": [
       "<IPython.core.display.HTML object>"
      ]
     },
     "metadata": {},
     "output_type": "display_data"
    },
    {
     "name": "stdout",
     "output_type": "stream",
     "text": [
      "_______________\n",
      "2022-05-25T06:34:11.567500Z\n",
      "Тула\n",
      "2022-05-28\n"
     ]
    },
    {
     "data": {
      "text/html": [
       "<table border=\"1\" class=\"dataframe\">\n",
       "  <thead>\n",
       "    <tr style=\"text-align: right;\">\n",
       "      <th></th>\n",
       "      <th>Температура</th>\n",
       "      <th>Влажность</th>\n",
       "      <th>Состояние</th>\n",
       "      <th>КартинОчка</th>\n",
       "    </tr>\n",
       "  </thead>\n",
       "  <tbody>\n",
       "    <tr>\n",
       "      <th>Ночь</th>\n",
       "      <td>10</td>\n",
       "      <td>75</td>\n",
       "      <td>light-rain</td>\n",
       "      <td><img src=\"https://yastatic.net/weather/i/icons/funky/dark/ovc_-ra.svg\" width=\"60\" ></td>\n",
       "    </tr>\n",
       "    <tr>\n",
       "      <th>Утро</th>\n",
       "      <td>10</td>\n",
       "      <td>83</td>\n",
       "      <td>showers</td>\n",
       "      <td><img src=\"https://yastatic.net/weather/i/icons/funky/dark/ovc_+ra.svg\" width=\"60\" ></td>\n",
       "    </tr>\n",
       "    <tr>\n",
       "      <th>День</th>\n",
       "      <td>14</td>\n",
       "      <td>69</td>\n",
       "      <td>showers</td>\n",
       "      <td><img src=\"https://yastatic.net/weather/i/icons/funky/dark/bkn_+ra_d.svg\" width=\"60\" ></td>\n",
       "    </tr>\n",
       "    <tr>\n",
       "      <th>Вечер</th>\n",
       "      <td>10</td>\n",
       "      <td>61</td>\n",
       "      <td>cloudy</td>\n",
       "      <td><img src=\"https://yastatic.net/weather/i/icons/funky/dark/bkn_n.svg\" width=\"60\" ></td>\n",
       "    </tr>\n",
       "  </tbody>\n",
       "</table>"
      ],
      "text/plain": [
       "<IPython.core.display.HTML object>"
      ]
     },
     "metadata": {},
     "output_type": "display_data"
    },
    {
     "name": "stdout",
     "output_type": "stream",
     "text": [
      "2022-05-29\n"
     ]
    },
    {
     "data": {
      "text/html": [
       "<table border=\"1\" class=\"dataframe\">\n",
       "  <thead>\n",
       "    <tr style=\"text-align: right;\">\n",
       "      <th></th>\n",
       "      <th>Температура</th>\n",
       "      <th>Влажность</th>\n",
       "      <th>Состояние</th>\n",
       "      <th>КартинОчка</th>\n",
       "    </tr>\n",
       "  </thead>\n",
       "  <tbody>\n",
       "    <tr>\n",
       "      <th>Ночь</th>\n",
       "      <td>7</td>\n",
       "      <td>76</td>\n",
       "      <td>cloudy</td>\n",
       "      <td><img src=\"https://yastatic.net/weather/i/icons/funky/dark/bkn_n.svg\" width=\"60\" ></td>\n",
       "    </tr>\n",
       "    <tr>\n",
       "      <th>Утро</th>\n",
       "      <td>8</td>\n",
       "      <td>72</td>\n",
       "      <td>cloudy</td>\n",
       "      <td><img src=\"https://yastatic.net/weather/i/icons/funky/dark/bkn_d.svg\" width=\"60\" ></td>\n",
       "    </tr>\n",
       "    <tr>\n",
       "      <th>День</th>\n",
       "      <td>15</td>\n",
       "      <td>61</td>\n",
       "      <td>cloudy</td>\n",
       "      <td><img src=\"https://yastatic.net/weather/i/icons/funky/dark/bkn_d.svg\" width=\"60\" ></td>\n",
       "    </tr>\n",
       "    <tr>\n",
       "      <th>Вечер</th>\n",
       "      <td>11</td>\n",
       "      <td>55</td>\n",
       "      <td>cloudy</td>\n",
       "      <td><img src=\"https://yastatic.net/weather/i/icons/funky/dark/bkn_n.svg\" width=\"60\" ></td>\n",
       "    </tr>\n",
       "  </tbody>\n",
       "</table>"
      ],
      "text/plain": [
       "<IPython.core.display.HTML object>"
      ]
     },
     "metadata": {},
     "output_type": "display_data"
    },
    {
     "name": "stdout",
     "output_type": "stream",
     "text": [
      "_______________\n",
      "2022-05-25T06:34:11.638766Z\n",
      "Звенигород\n",
      "2022-05-28\n"
     ]
    },
    {
     "data": {
      "text/html": [
       "<table border=\"1\" class=\"dataframe\">\n",
       "  <thead>\n",
       "    <tr style=\"text-align: right;\">\n",
       "      <th></th>\n",
       "      <th>Температура</th>\n",
       "      <th>Влажность</th>\n",
       "      <th>Состояние</th>\n",
       "      <th>КартинОчка</th>\n",
       "    </tr>\n",
       "  </thead>\n",
       "  <tbody>\n",
       "    <tr>\n",
       "      <th>Ночь</th>\n",
       "      <td>8</td>\n",
       "      <td>78</td>\n",
       "      <td>light-rain</td>\n",
       "      <td><img src=\"https://yastatic.net/weather/i/icons/funky/dark/bkn_-ra_n.svg\" width=\"60\" ></td>\n",
       "    </tr>\n",
       "    <tr>\n",
       "      <th>Утро</th>\n",
       "      <td>8</td>\n",
       "      <td>85</td>\n",
       "      <td>showers</td>\n",
       "      <td><img src=\"https://yastatic.net/weather/i/icons/funky/dark/ovc_+ra.svg\" width=\"60\" ></td>\n",
       "    </tr>\n",
       "    <tr>\n",
       "      <th>День</th>\n",
       "      <td>12</td>\n",
       "      <td>73</td>\n",
       "      <td>showers</td>\n",
       "      <td><img src=\"https://yastatic.net/weather/i/icons/funky/dark/ovc_+ra.svg\" width=\"60\" ></td>\n",
       "    </tr>\n",
       "    <tr>\n",
       "      <th>Вечер</th>\n",
       "      <td>10</td>\n",
       "      <td>66</td>\n",
       "      <td>light-rain</td>\n",
       "      <td><img src=\"https://yastatic.net/weather/i/icons/funky/dark/bkn_-ra_n.svg\" width=\"60\" ></td>\n",
       "    </tr>\n",
       "  </tbody>\n",
       "</table>"
      ],
      "text/plain": [
       "<IPython.core.display.HTML object>"
      ]
     },
     "metadata": {},
     "output_type": "display_data"
    },
    {
     "name": "stdout",
     "output_type": "stream",
     "text": [
      "2022-05-29\n"
     ]
    },
    {
     "data": {
      "text/html": [
       "<table border=\"1\" class=\"dataframe\">\n",
       "  <thead>\n",
       "    <tr style=\"text-align: right;\">\n",
       "      <th></th>\n",
       "      <th>Температура</th>\n",
       "      <th>Влажность</th>\n",
       "      <th>Состояние</th>\n",
       "      <th>КартинОчка</th>\n",
       "    </tr>\n",
       "  </thead>\n",
       "  <tbody>\n",
       "    <tr>\n",
       "      <th>Ночь</th>\n",
       "      <td>7</td>\n",
       "      <td>80</td>\n",
       "      <td>cloudy</td>\n",
       "      <td><img src=\"https://yastatic.net/weather/i/icons/funky/dark/bkn_n.svg\" width=\"60\" ></td>\n",
       "    </tr>\n",
       "    <tr>\n",
       "      <th>Утро</th>\n",
       "      <td>7</td>\n",
       "      <td>72</td>\n",
       "      <td>cloudy</td>\n",
       "      <td><img src=\"https://yastatic.net/weather/i/icons/funky/dark/bkn_d.svg\" width=\"60\" ></td>\n",
       "    </tr>\n",
       "    <tr>\n",
       "      <th>День</th>\n",
       "      <td>14</td>\n",
       "      <td>61</td>\n",
       "      <td>light-rain</td>\n",
       "      <td><img src=\"https://yastatic.net/weather/i/icons/funky/dark/bkn_-ra_d.svg\" width=\"60\" ></td>\n",
       "    </tr>\n",
       "    <tr>\n",
       "      <th>Вечер</th>\n",
       "      <td>11</td>\n",
       "      <td>59</td>\n",
       "      <td>cloudy</td>\n",
       "      <td><img src=\"https://yastatic.net/weather/i/icons/funky/dark/bkn_n.svg\" width=\"60\" ></td>\n",
       "    </tr>\n",
       "  </tbody>\n",
       "</table>"
      ],
      "text/plain": [
       "<IPython.core.display.HTML object>"
      ]
     },
     "metadata": {},
     "output_type": "display_data"
    },
    {
     "name": "stdout",
     "output_type": "stream",
     "text": [
      "_______________\n",
      "2022-05-25T06:34:11.727633Z\n",
      "село Быково\n",
      "2022-05-28\n"
     ]
    },
    {
     "data": {
      "text/html": [
       "<table border=\"1\" class=\"dataframe\">\n",
       "  <thead>\n",
       "    <tr style=\"text-align: right;\">\n",
       "      <th></th>\n",
       "      <th>Температура</th>\n",
       "      <th>Влажность</th>\n",
       "      <th>Состояние</th>\n",
       "      <th>КартинОчка</th>\n",
       "    </tr>\n",
       "  </thead>\n",
       "  <tbody>\n",
       "    <tr>\n",
       "      <th>Ночь</th>\n",
       "      <td>9</td>\n",
       "      <td>74</td>\n",
       "      <td>light-rain</td>\n",
       "      <td><img src=\"https://yastatic.net/weather/i/icons/funky/dark/bkn_-ra_n.svg\" width=\"60\" ></td>\n",
       "    </tr>\n",
       "    <tr>\n",
       "      <th>Утро</th>\n",
       "      <td>9</td>\n",
       "      <td>81</td>\n",
       "      <td>rain</td>\n",
       "      <td><img src=\"https://yastatic.net/weather/i/icons/funky/dark/ovc_ra.svg\" width=\"60\" ></td>\n",
       "    </tr>\n",
       "    <tr>\n",
       "      <th>День</th>\n",
       "      <td>13</td>\n",
       "      <td>72</td>\n",
       "      <td>rain</td>\n",
       "      <td><img src=\"https://yastatic.net/weather/i/icons/funky/dark/bkn_ra_d.svg\" width=\"60\" ></td>\n",
       "    </tr>\n",
       "    <tr>\n",
       "      <th>Вечер</th>\n",
       "      <td>10</td>\n",
       "      <td>65</td>\n",
       "      <td>cloudy</td>\n",
       "      <td><img src=\"https://yastatic.net/weather/i/icons/funky/dark/bkn_n.svg\" width=\"60\" ></td>\n",
       "    </tr>\n",
       "  </tbody>\n",
       "</table>"
      ],
      "text/plain": [
       "<IPython.core.display.HTML object>"
      ]
     },
     "metadata": {},
     "output_type": "display_data"
    },
    {
     "name": "stdout",
     "output_type": "stream",
     "text": [
      "2022-05-29\n"
     ]
    },
    {
     "data": {
      "text/html": [
       "<table border=\"1\" class=\"dataframe\">\n",
       "  <thead>\n",
       "    <tr style=\"text-align: right;\">\n",
       "      <th></th>\n",
       "      <th>Температура</th>\n",
       "      <th>Влажность</th>\n",
       "      <th>Состояние</th>\n",
       "      <th>КартинОчка</th>\n",
       "    </tr>\n",
       "  </thead>\n",
       "  <tbody>\n",
       "    <tr>\n",
       "      <th>Ночь</th>\n",
       "      <td>7</td>\n",
       "      <td>79</td>\n",
       "      <td>cloudy</td>\n",
       "      <td><img src=\"https://yastatic.net/weather/i/icons/funky/dark/bkn_n.svg\" width=\"60\" ></td>\n",
       "    </tr>\n",
       "    <tr>\n",
       "      <th>Утро</th>\n",
       "      <td>8</td>\n",
       "      <td>73</td>\n",
       "      <td>cloudy</td>\n",
       "      <td><img src=\"https://yastatic.net/weather/i/icons/funky/dark/bkn_d.svg\" width=\"60\" ></td>\n",
       "    </tr>\n",
       "    <tr>\n",
       "      <th>День</th>\n",
       "      <td>16</td>\n",
       "      <td>60</td>\n",
       "      <td>light-rain</td>\n",
       "      <td><img src=\"https://yastatic.net/weather/i/icons/funky/dark/bkn_-ra_d.svg\" width=\"60\" ></td>\n",
       "    </tr>\n",
       "    <tr>\n",
       "      <th>Вечер</th>\n",
       "      <td>11</td>\n",
       "      <td>57</td>\n",
       "      <td>cloudy</td>\n",
       "      <td><img src=\"https://yastatic.net/weather/i/icons/funky/dark/bkn_n.svg\" width=\"60\" ></td>\n",
       "    </tr>\n",
       "  </tbody>\n",
       "</table>"
      ],
      "text/plain": [
       "<IPython.core.display.HTML object>"
      ]
     },
     "metadata": {},
     "output_type": "display_data"
    }
   ],
   "source": [
    "Miskin = (57.786630, 38.454883)\n",
    "Kolomna = (55.103034, 38.752809)\n",
    "Tyla = (54.193122, 37.617348)\n",
    "Zvenogorod = (55.729828, 36.854463)\n",
    "Bikovo = (55.611612, 38.052851)\n",
    "\n",
    "print(\"ПОГОДА НЕ В ДОМЕ\")\n",
    "print_we(Miskin)\n",
    "print_we(Kolomna)\n",
    "print_we(Tyla)\n",
    "print_we(Zvenogorod)\n",
    "print_we(Bikovo)"
   ]
  },
  {
   "cell_type": "code",
   "execution_count": null,
   "metadata": {},
   "outputs": [],
   "source": []
  }
 ],
 "metadata": {
  "interpreter": {
   "hash": "e7370f93d1d0cde622a1f8e1c04877d8463912d04d973331ad4851f04de6915a"
  },
  "kernelspec": {
   "display_name": "Python 3.8.10 64-bit",
   "language": "python",
   "name": "python3"
  },
  "language_info": {
   "codemirror_mode": {
    "name": "ipython",
    "version": 3
   },
   "file_extension": ".py",
   "mimetype": "text/x-python",
   "name": "python",
   "nbconvert_exporter": "python",
   "pygments_lexer": "ipython3",
   "version": "3.8.10"
  },
  "orig_nbformat": 4
 },
 "nbformat": 4,
 "nbformat_minor": 2
}
